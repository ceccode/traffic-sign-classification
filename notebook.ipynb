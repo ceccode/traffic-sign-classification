{
  "cells": [
    {
      "cell_type": "markdown",
      "metadata": {
        "id": "Z4hKNbr3U749"
      },
      "source": [
        "# Traffic Sign Classification"
      ]
    },
    {
      "cell_type": "markdown",
      "metadata": {
        "id": "HfOZDoWIU_5P"
      },
      "source": [
        "build a model for classifying traffic signs"
      ]
    },
    {
      "cell_type": "markdown",
      "metadata": {
        "id": "qd1bkq70iy0z"
      },
      "source": [
        "## Dataset"
      ]
    },
    {
      "cell_type": "markdown",
      "metadata": {
        "id": "l90m03xwVEO5"
      },
      "source": [
        "The dataset we’ll be using to train our own custom traffic sign classifier is the German Traffic Sign Benchmark https://www.kaggle.com/valentynsichkar/traffic-signs-preprocessed"
      ]
    },
    {
      "cell_type": "markdown",
      "metadata": {
        "id": "94vMp9UzVQrW"
      },
      "source": [
        "### About the dataset\n",
        "\n",
        "The German Traffic Sign Benchmark is a multi-class, single-image classification challenge held at the International Joint Conference on Neural Networks (IJCNN) 2011. We cordially invite researchers from relevant fields to participate: The competition is designed to allow for participation without special domain knowledge. Our benchmark has the following properties:\n",
        "\n",
        "* Single-image, multi-class classification problem\n",
        "* More than 40 classes\n",
        "* More than 50,000 images in total\n",
        "* Large, lifelike database"
      ]
    },
    {
      "cell_type": "markdown",
      "metadata": {
        "id": "tyQeeEuNVSiX"
      },
      "source": [
        "#### Credits\n",
        "\n",
        "* [https://benchmark.ini.rub.de/](https://benchmark.ini.rub.de/)"
      ]
    },
    {
      "cell_type": "code",
      "execution_count": 1,
      "metadata": {
        "colab": {
          "base_uri": "https://localhost:8080/"
        },
        "id": "2Bz2NCmVI8zo",
        "outputId": "323f2a5c-a564-4556-ae7d-202792d051dd"
      },
      "outputs": [
        {
          "name": "stdout",
          "output_type": "stream",
          "text": [
            "Python 3.7.12\n"
          ]
        }
      ],
      "source": [
        "!python3 --version"
      ]
    },
    {
      "cell_type": "code",
      "execution_count": 2,
      "metadata": {
        "id": "8TQwf_yFOKVy"
      },
      "outputs": [],
      "source": [
        "import os\n",
        "import zipfile\n",
        "import tensorflow as tf\n",
        "\n",
        "from tensorflow import keras\n",
        "from tensorflow.keras import layers\n",
        "from tensorflow.keras import models\n",
        "from tensorflow.keras import optimizers\n",
        "\n",
        "from tensorflow.keras.preprocessing.image import ImageDataGenerator\n",
        "from tensorflow.keras.preprocessing.image import load_img\n",
        "\n",
        "from keras.layers import Dense, Dropout, Flatten, Conv2D, MaxPool2D, MaxPooling2D, AvgPool2D, BatchNormalization, Reshape\n",
        "\n",
        "from sklearn.model_selection import train_test_split\n",
        "import tqdm\n",
        "import shutil\n",
        "\n",
        "import numpy as np\n",
        "import pandas as pd\n",
        "from pathlib import Path\n",
        "\n",
        "import matplotlib.pyplot as plt\n",
        "\n",
        "%matplotlib inline"
      ]
    },
    {
      "cell_type": "markdown",
      "metadata": {
        "id": "_t8_Fs87OM1D"
      },
      "source": [
        "Download the dataset from source"
      ]
    },
    {
      "cell_type": "code",
      "execution_count": 3,
      "metadata": {
        "colab": {
          "base_uri": "https://localhost:8080/"
        },
        "id": "4qUtPm5cQH6O",
        "outputId": "24e22636-7492-4aff-f324-bf86dad10e69"
      },
      "outputs": [
        {
          "name": "stdout",
          "output_type": "stream",
          "text": [
            "--2021-12-12 11:17:08--  https://d17h27t6h515a5.cloudfront.net/topher/2017/February/5898cd6f_traffic-signs-data/traffic-signs-data.zip\n",
            "Resolving d17h27t6h515a5.cloudfront.net (d17h27t6h515a5.cloudfront.net)... 65.9.84.91, 65.9.84.144, 65.9.84.166, ...\n",
            "Connecting to d17h27t6h515a5.cloudfront.net (d17h27t6h515a5.cloudfront.net)|65.9.84.91|:443... connected.\n",
            "HTTP request sent, awaiting response... 200 OK\n",
            "Length: 123524425 (118M) [application/zip]\n",
            "Saving to: ‘traffic-signs-data.zip’\n",
            "\n",
            "traffic-signs-data. 100%[===================>] 117.80M  31.3MB/s    in 4.3s    \n",
            "\n",
            "2021-12-12 11:17:13 (27.6 MB/s) - ‘traffic-signs-data.zip’ saved [123524425/123524425]\n",
            "\n"
          ]
        }
      ],
      "source": [
        "!wget https://d17h27t6h515a5.cloudfront.net/topher/2017/February/5898cd6f_traffic-signs-data/traffic-signs-data.zip"
      ]
    },
    {
      "cell_type": "code",
      "execution_count": 4,
      "metadata": {
        "colab": {
          "base_uri": "https://localhost:8080/"
        },
        "id": "fymSrKlkQhER",
        "outputId": "6f75a464-9576-4200-e259-bd9fc8426c2e"
      },
      "outputs": [
        {
          "name": "stdout",
          "output_type": "stream",
          "text": [
            "sample_data  traffic-signs-data.zip\n"
          ]
        }
      ],
      "source": [
        "!ls"
      ]
    },
    {
      "cell_type": "code",
      "execution_count": 5,
      "metadata": {
        "colab": {
          "base_uri": "https://localhost:8080/"
        },
        "id": "Aa0EFgTqQjcm",
        "outputId": "6ae38d89-e223-437b-942d-6fe4486e3afc"
      },
      "outputs": [
        {
          "name": "stdout",
          "output_type": "stream",
          "text": [
            "118M\ttraffic-signs-data.zip\n"
          ]
        }
      ],
      "source": [
        "!du -sh traffic-signs-data.zip"
      ]
    },
    {
      "cell_type": "markdown",
      "metadata": {
        "id": "eVlIcADQYLaI"
      },
      "source": [
        "Load labels"
      ]
    },
    {
      "cell_type": "code",
      "execution_count": 6,
      "metadata": {
        "colab": {
          "base_uri": "https://localhost:8080/"
        },
        "id": "4iFhlbx7YJcS",
        "outputId": "5f96f244-235d-4c16-a85c-74cba27cf17f"
      },
      "outputs": [
        {
          "name": "stdout",
          "output_type": "stream",
          "text": [
            "--2021-12-12 11:17:14--  https://gist.githubusercontent.com/ceccode/119e37bcc2320819b7445c1090c0fe06/raw/0e3801a7c09091d9b9200ac454a4ba99203652c8/labels.csv\n",
            "Resolving gist.githubusercontent.com (gist.githubusercontent.com)... 185.199.111.133, 185.199.109.133, 185.199.110.133, ...\n",
            "Connecting to gist.githubusercontent.com (gist.githubusercontent.com)|185.199.111.133|:443... connected.\n",
            "HTTP request sent, awaiting response... 200 OK\n",
            "Length: 999 [text/plain]\n",
            "Saving to: ‘labels.csv’\n",
            "\n",
            "labels.csv          100%[===================>]     999  --.-KB/s    in 0s      \n",
            "\n",
            "2021-12-12 11:17:14 (50.4 MB/s) - ‘labels.csv’ saved [999/999]\n",
            "\n"
          ]
        }
      ],
      "source": [
        "!wget https://gist.githubusercontent.com/ceccode/119e37bcc2320819b7445c1090c0fe06/raw/0e3801a7c09091d9b9200ac454a4ba99203652c8/labels.csv"
      ]
    },
    {
      "cell_type": "code",
      "execution_count": 7,
      "metadata": {
        "colab": {
          "base_uri": "https://localhost:8080/"
        },
        "id": "4xy5oGNtYPS_",
        "outputId": "b053ade8-aaac-4121-bad1-d832f0345ca0"
      },
      "outputs": [
        {
          "name": "stdout",
          "output_type": "stream",
          "text": [
            "labels.csv  sample_data  traffic-signs-data.zip\n"
          ]
        }
      ],
      "source": [
        "!ls"
      ]
    },
    {
      "cell_type": "markdown",
      "metadata": {
        "id": "ihZIUiGrkbg4"
      },
      "source": [
        "## Data preparation and data clearning"
      ]
    },
    {
      "cell_type": "markdown",
      "metadata": {
        "id": "k8JFMsM6UX-G"
      },
      "source": [
        "Extract the dataset"
      ]
    },
    {
      "cell_type": "code",
      "execution_count": 8,
      "metadata": {
        "id": "gQHrPQDPUXgT"
      },
      "outputs": [],
      "source": [
        "zip_ref = zipfile.ZipFile(\"./traffic-signs-data.zip\", 'r')\n",
        "zip_ref.extractall(\"../tmp/traffic-signs\")\n",
        "zip_ref.close()"
      ]
    },
    {
      "cell_type": "code",
      "execution_count": 9,
      "metadata": {
        "id": "hX71yQj2UeCj"
      },
      "outputs": [],
      "source": [
        "BASE_PATH = '../tmp/traffic-signs/'"
      ]
    },
    {
      "cell_type": "code",
      "execution_count": 10,
      "metadata": {
        "colab": {
          "base_uri": "https://localhost:8080/",
          "height": 35
        },
        "id": "DPEA6PmTYi2W",
        "outputId": "1b36b4a7-0963-4a57-9620-4b46e6e817ac"
      },
      "outputs": [
        {
          "data": {
            "application/vnd.google.colaboratory.intrinsic+json": {
              "type": "string"
            },
            "text/plain": [
              "'../tmp/traffic-signs/labels_test.csv'"
            ]
          },
          "execution_count": 10,
          "metadata": {},
          "output_type": "execute_result"
        }
      ],
      "source": [
        "shutil.copyfile('./labels.csv', BASE_PATH + 'labels_name.csv') \n",
        "\n",
        "shutil.copyfile('./labels.csv', BASE_PATH + 'labels_train.csv')\n",
        "shutil.copyfile('./labels.csv', BASE_PATH + 'labels_valid.csv')\n",
        "shutil.copyfile('./labels.csv', BASE_PATH + 'labels_test.csv')"
      ]
    },
    {
      "cell_type": "code",
      "execution_count": 11,
      "metadata": {
        "colab": {
          "base_uri": "https://localhost:8080/",
          "height": 1000
        },
        "id": "peGsPrrjem_s",
        "outputId": "b1f4e951-5b56-49c5-846b-cfd88a27c258"
      },
      "outputs": [
        {
          "data": {
            "text/html": [
              "<div>\n",
              "<style scoped>\n",
              "    .dataframe tbody tr th:only-of-type {\n",
              "        vertical-align: middle;\n",
              "    }\n",
              "\n",
              "    .dataframe tbody tr th {\n",
              "        vertical-align: top;\n",
              "    }\n",
              "\n",
              "    .dataframe thead th {\n",
              "        text-align: right;\n",
              "    }\n",
              "</style>\n",
              "<table border=\"1\" class=\"dataframe\">\n",
              "  <thead>\n",
              "    <tr style=\"text-align: right;\">\n",
              "      <th></th>\n",
              "      <th>ClassId</th>\n",
              "      <th>SignName</th>\n",
              "    </tr>\n",
              "  </thead>\n",
              "  <tbody>\n",
              "    <tr>\n",
              "      <th>0</th>\n",
              "      <td>0</td>\n",
              "      <td>Speed limit (20km/h)</td>\n",
              "    </tr>\n",
              "    <tr>\n",
              "      <th>1</th>\n",
              "      <td>1</td>\n",
              "      <td>Speed limit (30km/h)</td>\n",
              "    </tr>\n",
              "    <tr>\n",
              "      <th>2</th>\n",
              "      <td>2</td>\n",
              "      <td>Speed limit (50km/h)</td>\n",
              "    </tr>\n",
              "    <tr>\n",
              "      <th>3</th>\n",
              "      <td>3</td>\n",
              "      <td>Speed limit (60km/h)</td>\n",
              "    </tr>\n",
              "    <tr>\n",
              "      <th>4</th>\n",
              "      <td>4</td>\n",
              "      <td>Speed limit (70km/h)</td>\n",
              "    </tr>\n",
              "    <tr>\n",
              "      <th>5</th>\n",
              "      <td>5</td>\n",
              "      <td>Speed limit (80km/h)</td>\n",
              "    </tr>\n",
              "    <tr>\n",
              "      <th>6</th>\n",
              "      <td>6</td>\n",
              "      <td>End of speed limit (80km/h)</td>\n",
              "    </tr>\n",
              "    <tr>\n",
              "      <th>7</th>\n",
              "      <td>7</td>\n",
              "      <td>Speed limit (100km/h)</td>\n",
              "    </tr>\n",
              "    <tr>\n",
              "      <th>8</th>\n",
              "      <td>8</td>\n",
              "      <td>Speed limit (120km/h)</td>\n",
              "    </tr>\n",
              "    <tr>\n",
              "      <th>9</th>\n",
              "      <td>9</td>\n",
              "      <td>No passing</td>\n",
              "    </tr>\n",
              "    <tr>\n",
              "      <th>10</th>\n",
              "      <td>10</td>\n",
              "      <td>No passing for vehicles over 3.5 metric tons</td>\n",
              "    </tr>\n",
              "    <tr>\n",
              "      <th>11</th>\n",
              "      <td>11</td>\n",
              "      <td>Right-of-way at the next intersection</td>\n",
              "    </tr>\n",
              "    <tr>\n",
              "      <th>12</th>\n",
              "      <td>12</td>\n",
              "      <td>Priority road</td>\n",
              "    </tr>\n",
              "    <tr>\n",
              "      <th>13</th>\n",
              "      <td>13</td>\n",
              "      <td>Yield</td>\n",
              "    </tr>\n",
              "    <tr>\n",
              "      <th>14</th>\n",
              "      <td>14</td>\n",
              "      <td>Stop</td>\n",
              "    </tr>\n",
              "    <tr>\n",
              "      <th>15</th>\n",
              "      <td>15</td>\n",
              "      <td>No vehicles</td>\n",
              "    </tr>\n",
              "    <tr>\n",
              "      <th>16</th>\n",
              "      <td>16</td>\n",
              "      <td>Vehicles over 3.5 metric tons prohibited</td>\n",
              "    </tr>\n",
              "    <tr>\n",
              "      <th>17</th>\n",
              "      <td>17</td>\n",
              "      <td>No entry</td>\n",
              "    </tr>\n",
              "    <tr>\n",
              "      <th>18</th>\n",
              "      <td>18</td>\n",
              "      <td>General caution</td>\n",
              "    </tr>\n",
              "    <tr>\n",
              "      <th>19</th>\n",
              "      <td>19</td>\n",
              "      <td>Dangerous curve to the left</td>\n",
              "    </tr>\n",
              "    <tr>\n",
              "      <th>20</th>\n",
              "      <td>20</td>\n",
              "      <td>Dangerous curve to the right</td>\n",
              "    </tr>\n",
              "    <tr>\n",
              "      <th>21</th>\n",
              "      <td>21</td>\n",
              "      <td>Double curve</td>\n",
              "    </tr>\n",
              "    <tr>\n",
              "      <th>22</th>\n",
              "      <td>22</td>\n",
              "      <td>Bumpy road</td>\n",
              "    </tr>\n",
              "    <tr>\n",
              "      <th>23</th>\n",
              "      <td>23</td>\n",
              "      <td>Slippery road</td>\n",
              "    </tr>\n",
              "    <tr>\n",
              "      <th>24</th>\n",
              "      <td>24</td>\n",
              "      <td>Road narrows on the right</td>\n",
              "    </tr>\n",
              "    <tr>\n",
              "      <th>25</th>\n",
              "      <td>25</td>\n",
              "      <td>Road work</td>\n",
              "    </tr>\n",
              "    <tr>\n",
              "      <th>26</th>\n",
              "      <td>26</td>\n",
              "      <td>Traffic signals</td>\n",
              "    </tr>\n",
              "    <tr>\n",
              "      <th>27</th>\n",
              "      <td>27</td>\n",
              "      <td>Pedestrians</td>\n",
              "    </tr>\n",
              "    <tr>\n",
              "      <th>28</th>\n",
              "      <td>28</td>\n",
              "      <td>Children crossing</td>\n",
              "    </tr>\n",
              "    <tr>\n",
              "      <th>29</th>\n",
              "      <td>29</td>\n",
              "      <td>Bicycles crossing</td>\n",
              "    </tr>\n",
              "    <tr>\n",
              "      <th>30</th>\n",
              "      <td>30</td>\n",
              "      <td>Beware of ice/snow</td>\n",
              "    </tr>\n",
              "    <tr>\n",
              "      <th>31</th>\n",
              "      <td>31</td>\n",
              "      <td>Wild animals crossing</td>\n",
              "    </tr>\n",
              "    <tr>\n",
              "      <th>32</th>\n",
              "      <td>32</td>\n",
              "      <td>End of all speed and passing limits</td>\n",
              "    </tr>\n",
              "    <tr>\n",
              "      <th>33</th>\n",
              "      <td>33</td>\n",
              "      <td>Turn right ahead</td>\n",
              "    </tr>\n",
              "    <tr>\n",
              "      <th>34</th>\n",
              "      <td>34</td>\n",
              "      <td>Turn left ahead</td>\n",
              "    </tr>\n",
              "    <tr>\n",
              "      <th>35</th>\n",
              "      <td>35</td>\n",
              "      <td>Ahead only</td>\n",
              "    </tr>\n",
              "    <tr>\n",
              "      <th>36</th>\n",
              "      <td>36</td>\n",
              "      <td>Go straight or right</td>\n",
              "    </tr>\n",
              "    <tr>\n",
              "      <th>37</th>\n",
              "      <td>37</td>\n",
              "      <td>Go straight or left</td>\n",
              "    </tr>\n",
              "    <tr>\n",
              "      <th>38</th>\n",
              "      <td>38</td>\n",
              "      <td>Keep right</td>\n",
              "    </tr>\n",
              "    <tr>\n",
              "      <th>39</th>\n",
              "      <td>39</td>\n",
              "      <td>Keep left</td>\n",
              "    </tr>\n",
              "    <tr>\n",
              "      <th>40</th>\n",
              "      <td>40</td>\n",
              "      <td>Roundabout mandatory</td>\n",
              "    </tr>\n",
              "    <tr>\n",
              "      <th>41</th>\n",
              "      <td>41</td>\n",
              "      <td>End of no passing</td>\n",
              "    </tr>\n",
              "    <tr>\n",
              "      <th>42</th>\n",
              "      <td>42</td>\n",
              "      <td>End of no passing by vehicles over 3.5 metric ...</td>\n",
              "    </tr>\n",
              "  </tbody>\n",
              "</table>\n",
              "</div>"
            ],
            "text/plain": [
              "    ClassId                                           SignName\n",
              "0         0                               Speed limit (20km/h)\n",
              "1         1                               Speed limit (30km/h)\n",
              "2         2                               Speed limit (50km/h)\n",
              "3         3                               Speed limit (60km/h)\n",
              "4         4                               Speed limit (70km/h)\n",
              "5         5                               Speed limit (80km/h)\n",
              "6         6                        End of speed limit (80km/h)\n",
              "7         7                              Speed limit (100km/h)\n",
              "8         8                              Speed limit (120km/h)\n",
              "9         9                                         No passing\n",
              "10       10       No passing for vehicles over 3.5 metric tons\n",
              "11       11              Right-of-way at the next intersection\n",
              "12       12                                      Priority road\n",
              "13       13                                              Yield\n",
              "14       14                                               Stop\n",
              "15       15                                        No vehicles\n",
              "16       16           Vehicles over 3.5 metric tons prohibited\n",
              "17       17                                           No entry\n",
              "18       18                                    General caution\n",
              "19       19                        Dangerous curve to the left\n",
              "20       20                       Dangerous curve to the right\n",
              "21       21                                       Double curve\n",
              "22       22                                         Bumpy road\n",
              "23       23                                      Slippery road\n",
              "24       24                          Road narrows on the right\n",
              "25       25                                          Road work\n",
              "26       26                                    Traffic signals\n",
              "27       27                                        Pedestrians\n",
              "28       28                                  Children crossing\n",
              "29       29                                  Bicycles crossing\n",
              "30       30                                 Beware of ice/snow\n",
              "31       31                              Wild animals crossing\n",
              "32       32                End of all speed and passing limits\n",
              "33       33                                   Turn right ahead\n",
              "34       34                                    Turn left ahead\n",
              "35       35                                         Ahead only\n",
              "36       36                               Go straight or right\n",
              "37       37                                Go straight or left\n",
              "38       38                                         Keep right\n",
              "39       39                                          Keep left\n",
              "40       40                               Roundabout mandatory\n",
              "41       41                                  End of no passing\n",
              "42       42  End of no passing by vehicles over 3.5 metric ..."
            ]
          },
          "execution_count": 11,
          "metadata": {},
          "output_type": "execute_result"
        }
      ],
      "source": [
        "label_df = pd.read_csv(BASE_PATH + 'labels_name.csv')\n",
        "label_df"
      ]
    },
    {
      "cell_type": "code",
      "execution_count": 12,
      "metadata": {
        "id": "B57xufGMT74p"
      },
      "outputs": [],
      "source": [
        "import pickle\n",
        "from PIL import Image"
      ]
    },
    {
      "cell_type": "code",
      "execution_count": 13,
      "metadata": {
        "id": "EjVcMPIEUI6u"
      },
      "outputs": [],
      "source": [
        "# load the database\n",
        "training_file =  BASE_PATH + \"train.p\"\n",
        "validation_file= BASE_PATH + \"valid.p\"\n",
        "testing_file =   BASE_PATH + \"test.p\"\n",
        "\n",
        "with open(training_file, mode='rb') as f:\n",
        "    train = pickle.load(f)\n",
        "with open(validation_file, mode='rb') as f:\n",
        "    valid = pickle.load(f)\n",
        "with open(testing_file, mode='rb') as f:\n",
        "    test = pickle.load(f)"
      ]
    },
    {
      "cell_type": "code",
      "execution_count": 14,
      "metadata": {
        "id": "M2rtR2tbbA1p"
      },
      "outputs": [],
      "source": [
        "os.makedirs(BASE_PATH + 'train', exist_ok=True)\n",
        "os.makedirs(BASE_PATH + 'valid', exist_ok=True)\n",
        "os.makedirs(BASE_PATH + 'test', exist_ok=True)"
      ]
    },
    {
      "cell_type": "markdown",
      "metadata": {
        "id": "FmTFDtmnbsjA"
      },
      "source": [
        "Move image file in test / train / valid"
      ]
    },
    {
      "cell_type": "code",
      "execution_count": 15,
      "metadata": {
        "colab": {
          "base_uri": "https://localhost:8080/"
        },
        "id": "wPa24g2-heJv",
        "outputId": "ae9291cc-cb49-45fb-d241-1adbaf46eb47"
      },
      "outputs": [
        {
          "data": {
            "text/plain": [
              "array([[[[ 28,  25,  24],\n",
              "         [ 27,  24,  23],\n",
              "         [ 27,  24,  22],\n",
              "         ...,\n",
              "         [ 32,  28,  24],\n",
              "         [ 31,  27,  25],\n",
              "         [ 31,  27,  26]],\n",
              "\n",
              "        [[ 29,  26,  25],\n",
              "         [ 27,  25,  23],\n",
              "         [ 27,  25,  23],\n",
              "         ...,\n",
              "         [ 32,  28,  24],\n",
              "         [ 31,  27,  24],\n",
              "         [ 30,  27,  25]],\n",
              "\n",
              "        [[ 28,  26,  26],\n",
              "         [ 27,  25,  23],\n",
              "         [ 26,  25,  23],\n",
              "         ...,\n",
              "         [ 32,  28,  24],\n",
              "         [ 31,  27,  24],\n",
              "         [ 30,  27,  25]],\n",
              "\n",
              "        ...,\n",
              "\n",
              "        [[ 27,  24,  23],\n",
              "         [ 28,  25,  24],\n",
              "         [ 30,  25,  24],\n",
              "         ...,\n",
              "         [ 27,  24,  23],\n",
              "         [ 28,  24,  22],\n",
              "         [ 29,  25,  22]],\n",
              "\n",
              "        [[ 28,  23,  23],\n",
              "         [ 29,  24,  24],\n",
              "         [ 31,  25,  24],\n",
              "         ...,\n",
              "         [ 27,  24,  23],\n",
              "         [ 28,  24,  22],\n",
              "         [ 28,  24,  21]],\n",
              "\n",
              "        [[ 29,  23,  23],\n",
              "         [ 30,  24,  24],\n",
              "         [ 32,  24,  23],\n",
              "         ...,\n",
              "         [ 27,  24,  22],\n",
              "         [ 27,  23,  21],\n",
              "         [ 26,  22,  20]]],\n",
              "\n",
              "\n",
              "       [[[ 28,  24,  24],\n",
              "         [ 26,  23,  23],\n",
              "         [ 27,  24,  24],\n",
              "         ...,\n",
              "         [ 31,  28,  26],\n",
              "         [ 31,  28,  27],\n",
              "         [ 32,  28,  27]],\n",
              "\n",
              "        [[ 27,  24,  24],\n",
              "         [ 27,  24,  24],\n",
              "         [ 28,  25,  24],\n",
              "         ...,\n",
              "         [ 31,  27,  25],\n",
              "         [ 31,  27,  26],\n",
              "         [ 33,  29,  27]],\n",
              "\n",
              "        [[ 26,  24,  24],\n",
              "         [ 26,  24,  24],\n",
              "         [ 27,  24,  23],\n",
              "         ...,\n",
              "         [ 31,  26,  25],\n",
              "         [ 31,  27,  26],\n",
              "         [ 33,  29,  27]],\n",
              "\n",
              "        ...,\n",
              "\n",
              "        [[ 28,  25,  23],\n",
              "         [ 30,  27,  24],\n",
              "         [ 30,  27,  24],\n",
              "         ...,\n",
              "         [ 27,  24,  22],\n",
              "         [ 27,  24,  22],\n",
              "         [ 28,  24,  22]],\n",
              "\n",
              "        [[ 27,  24,  22],\n",
              "         [ 29,  26,  23],\n",
              "         [ 31,  26,  24],\n",
              "         ...,\n",
              "         [ 26,  23,  21],\n",
              "         [ 27,  24,  22],\n",
              "         [ 28,  25,  23]],\n",
              "\n",
              "        [[ 28,  24,  23],\n",
              "         [ 28,  24,  22],\n",
              "         [ 29,  24,  22],\n",
              "         ...,\n",
              "         [ 27,  23,  22],\n",
              "         [ 27,  24,  23],\n",
              "         [ 29,  26,  25]]],\n",
              "\n",
              "\n",
              "       [[[ 29,  25,  25],\n",
              "         [ 29,  26,  26],\n",
              "         [ 30,  27,  27],\n",
              "         ...,\n",
              "         [ 31,  27,  24],\n",
              "         [ 31,  28,  25],\n",
              "         [ 32,  29,  27]],\n",
              "\n",
              "        [[ 27,  24,  24],\n",
              "         [ 27,  25,  25],\n",
              "         [ 28,  26,  26],\n",
              "         ...,\n",
              "         [ 31,  27,  23],\n",
              "         [ 32,  28,  25],\n",
              "         [ 33,  30,  27]],\n",
              "\n",
              "        [[ 27,  24,  24],\n",
              "         [ 28,  26,  26],\n",
              "         [ 29,  27,  27],\n",
              "         ...,\n",
              "         [ 32,  28,  24],\n",
              "         [ 32,  28,  24],\n",
              "         [ 33,  29,  26]],\n",
              "\n",
              "        ...,\n",
              "\n",
              "        [[ 28,  26,  22],\n",
              "         [ 29,  26,  21],\n",
              "         [ 31,  26,  22],\n",
              "         ...,\n",
              "         [ 29,  24,  21],\n",
              "         [ 28,  23,  20],\n",
              "         [ 28,  23,  22]],\n",
              "\n",
              "        [[ 27,  26,  23],\n",
              "         [ 28,  25,  21],\n",
              "         [ 30,  25,  22],\n",
              "         ...,\n",
              "         [ 28,  23,  21],\n",
              "         [ 27,  22,  20],\n",
              "         [ 28,  24,  22]],\n",
              "\n",
              "        [[ 29,  26,  23],\n",
              "         [ 28,  24,  21],\n",
              "         [ 29,  24,  21],\n",
              "         ...,\n",
              "         [ 29,  25,  23],\n",
              "         [ 28,  24,  22],\n",
              "         [ 30,  26,  24]]],\n",
              "\n",
              "\n",
              "       ...,\n",
              "\n",
              "\n",
              "       [[[ 51,  67,  86],\n",
              "         [ 55,  59,  71],\n",
              "         [ 75,  81,  92],\n",
              "         ...,\n",
              "         [250, 248, 243],\n",
              "         [207, 212, 233],\n",
              "         [121, 116, 140]],\n",
              "\n",
              "        [[ 35,  42,  49],\n",
              "         [ 48,  47,  51],\n",
              "         [ 91,  96, 113],\n",
              "         ...,\n",
              "         [220, 224, 226],\n",
              "         [169, 177, 187],\n",
              "         [ 84,  87, 100]],\n",
              "\n",
              "        [[ 27,  26,  29],\n",
              "         [ 41,  38,  39],\n",
              "         [ 55,  64,  78],\n",
              "         ...,\n",
              "         [122, 143, 160],\n",
              "         [ 97, 104, 129],\n",
              "         [ 59,  59,  56]],\n",
              "\n",
              "        ...,\n",
              "\n",
              "        [[ 24,  23,  27],\n",
              "         [ 21,  20,  27],\n",
              "         [ 20,  19,  22],\n",
              "         ...,\n",
              "         [ 76,  79,  83],\n",
              "         [ 54,  64,  77],\n",
              "         [ 45,  51,  65]],\n",
              "\n",
              "        [[ 31,  31,  33],\n",
              "         [ 22,  23,  29],\n",
              "         [ 20,  18,  21],\n",
              "         ...,\n",
              "         [ 66,  67,  84],\n",
              "         [ 56,  65,  74],\n",
              "         [ 45,  55,  73]],\n",
              "\n",
              "        [[ 28,  28,  30],\n",
              "         [ 22,  21,  25],\n",
              "         [ 19,  18,  19],\n",
              "         ...,\n",
              "         [ 67,  63,  76],\n",
              "         [ 39,  45,  55],\n",
              "         [ 32,  37,  47]]],\n",
              "\n",
              "\n",
              "       [[[ 82,  78,  96],\n",
              "         [120, 126, 148],\n",
              "         [112, 125, 146],\n",
              "         ...,\n",
              "         [185, 182, 177],\n",
              "         [204, 210, 215],\n",
              "         [132, 114, 121]],\n",
              "\n",
              "        [[ 74,  77,  93],\n",
              "         [171, 174, 185],\n",
              "         [137, 164, 184],\n",
              "         ...,\n",
              "         [180, 181, 187],\n",
              "         [198, 200, 213],\n",
              "         [ 79,  85,  85]],\n",
              "\n",
              "        [[ 54,  50,  56],\n",
              "         [100, 106, 118],\n",
              "         [117, 132, 158],\n",
              "         ...,\n",
              "         [157, 153, 160],\n",
              "         [176, 183, 199],\n",
              "         [ 88,  80,  82]],\n",
              "\n",
              "        ...,\n",
              "\n",
              "        [[ 22,  21,  22],\n",
              "         [ 20,  19,  19],\n",
              "         [ 18,  16,  19],\n",
              "         ...,\n",
              "         [ 50,  50,  60],\n",
              "         [ 37,  43,  52],\n",
              "         [ 30,  41,  59]],\n",
              "\n",
              "        [[ 18,  16,  18],\n",
              "         [ 19,  17,  18],\n",
              "         [ 19,  18,  21],\n",
              "         ...,\n",
              "         [ 36,  44,  60],\n",
              "         [ 33,  36,  48],\n",
              "         [ 36,  43,  61]],\n",
              "\n",
              "        [[ 18,  17,  20],\n",
              "         [ 21,  20,  23],\n",
              "         [ 24,  22,  25],\n",
              "         ...,\n",
              "         [ 32,  34,  41],\n",
              "         [ 45,  42,  48],\n",
              "         [ 41,  43,  52]]],\n",
              "\n",
              "\n",
              "       [[[ 69,  79,  96],\n",
              "         [ 24,  26,  28],\n",
              "         [ 40,  42,  45],\n",
              "         ...,\n",
              "         [225, 234, 237],\n",
              "         [151, 161, 166],\n",
              "         [164, 162, 169]],\n",
              "\n",
              "        [[ 99, 110, 125],\n",
              "         [ 36,  41,  47],\n",
              "         [ 63,  56,  62],\n",
              "         ...,\n",
              "         [197, 216, 224],\n",
              "         [154, 163, 169],\n",
              "         [164, 163, 159]],\n",
              "\n",
              "        [[104, 107, 113],\n",
              "         [ 34,  37,  40],\n",
              "         [ 72,  70,  77],\n",
              "         ...,\n",
              "         [223, 237, 235],\n",
              "         [181, 192, 198],\n",
              "         [166, 167, 159]],\n",
              "\n",
              "        ...,\n",
              "\n",
              "        [[ 21,  20,  23],\n",
              "         [ 23,  24,  30],\n",
              "         [ 19,  20,  24],\n",
              "         ...,\n",
              "         [ 45,  47,  54],\n",
              "         [ 58,  62,  70],\n",
              "         [ 58,  70,  82]],\n",
              "\n",
              "        [[ 18,  17,  21],\n",
              "         [ 19,  19,  24],\n",
              "         [ 18,  18,  23],\n",
              "         ...,\n",
              "         [ 36,  36,  40],\n",
              "         [ 58,  59,  70],\n",
              "         [ 61,  69,  81]],\n",
              "\n",
              "        [[ 17,  16,  19],\n",
              "         [ 16,  15,  18],\n",
              "         [ 16,  15,  18],\n",
              "         ...,\n",
              "         [ 40,  40,  44],\n",
              "         [ 57,  62,  73],\n",
              "         [ 57,  68,  80]]]], dtype=uint8)"
            ]
          },
          "execution_count": 15,
          "metadata": {},
          "output_type": "execute_result"
        }
      ],
      "source": [
        "train['features']"
      ]
    },
    {
      "cell_type": "code",
      "execution_count": 16,
      "metadata": {
        "colab": {
          "base_uri": "https://localhost:8080/"
        },
        "id": "4JKzGO6DhIs7",
        "outputId": "da9c08d5-5e04-4443-fb7a-0f87169c475a"
      },
      "outputs": [
        {
          "data": {
            "text/plain": [
              "array([41, 41, 41, ..., 25, 25, 25], dtype=uint8)"
            ]
          },
          "execution_count": 16,
          "metadata": {},
          "output_type": "execute_result"
        }
      ],
      "source": [
        "train['labels']"
      ]
    },
    {
      "cell_type": "markdown",
      "metadata": {
        "id": "FQrBSqkXkOV-"
      },
      "source": [
        "Write images and labels"
      ]
    },
    {
      "cell_type": "code",
      "execution_count": 17,
      "metadata": {
        "id": "FzwJDl4fXRdR"
      },
      "outputs": [],
      "source": [
        "with open(BASE_PATH+'labels_train.csv', 'w') as labels:\n",
        "    # -- TRAINING --\n",
        "    counter = 0\n",
        "    for f,l in zip(train['features'], train['labels']):\n",
        "        # write f to a jpg\n",
        "        relname = \"train/{name}.png\".format(name=counter)\n",
        "        fname = \"{root}\".format(root=BASE_PATH) + relname\n",
        "        im = Image.fromarray(f)\n",
        "        im.save(fname)\n",
        "        # write l to labels.csv\n",
        "        labels.write(\"{file},{label}\\n\".format(file=relname, label=l))\n",
        "        counter += 1\n",
        "\n",
        "with open(BASE_PATH+'labels_valid.csv', 'w') as labels:   \n",
        "    counter = 0 \n",
        "    for f,l in zip(valid['features'], valid['labels']):\n",
        "        # write f to a jpg\n",
        "        relname = \"valid/{name}.png\".format(name=counter)\n",
        "        fname = \"{root}\".format(root=BASE_PATH) + relname\n",
        "        im = Image.fromarray(f)\n",
        "        im.save(fname)\n",
        "        # write l to labels.csv\n",
        "        labels.write(\"{file},{label}\\n\".format(file=relname, label=l))\n",
        "        counter += 1\n",
        "\n",
        "with open(BASE_PATH+'labels_test.csv', 'w') as labels:    \n",
        "    counter = 0      \n",
        "    # -- TEST --\n",
        "    for f,l in zip(test['features'], test['labels']):\n",
        "        # write f to a jpg\n",
        "        relname = \"test/{name}.png\".format(name=counter)\n",
        "        fname = \"{root}\".format(root=BASE_PATH) + relname\n",
        "        im = Image.fromarray(f)\n",
        "        im.save(fname)\n",
        "        # write l to labels.csv\n",
        "        labels.write(\"{file},{label}\\n\".format(file=relname, label=l))\n",
        "        counter += 1\n",
        "\n"
      ]
    },
    {
      "cell_type": "markdown",
      "metadata": {
        "id": "4uhZhZaWkrF2"
      },
      "source": [
        "Show some images"
      ]
    },
    {
      "cell_type": "code",
      "execution_count": 18,
      "metadata": {
        "colab": {
          "base_uri": "https://localhost:8080/",
          "height": 49
        },
        "id": "bo6n-1mpkqbM",
        "outputId": "815aecf2-5ab7-4b73-c332-6b156a5bb230"
      },
      "outputs": [
        {
          "data": {
            "image/png": "[encoded data removed]",
            "text/plain": [
              "<PIL.PngImagePlugin.PngImageFile image mode=RGB size=32x32 at 0x7F7C60AB5250>"
            ]
          },
          "execution_count": 18,
          "metadata": {},
          "output_type": "execute_result"
        }
      ],
      "source": [
        "name_1 = 'train/100.png'\n",
        "image_fullname = f'{BASE_PATH}{name_1}'\n",
        "load_img(image_fullname)"
      ]
    },
    {
      "cell_type": "code",
      "execution_count": 19,
      "metadata": {
        "colab": {
          "base_uri": "https://localhost:8080/",
          "height": 49
        },
        "id": "Q546z-mWlOI8",
        "outputId": "3a478d3e-70df-471d-e724-9b0c854b2115"
      },
      "outputs": [
        {
          "data": {
            "image/png": "[encoded data removed]",
            "text/plain": [
              "<PIL.PngImagePlugin.PngImageFile image mode=RGB size=32x32 at 0x7F7C60AD66D0>"
            ]
          },
          "execution_count": 19,
          "metadata": {},
          "output_type": "execute_result"
        }
      ],
      "source": [
        "name_2 = 'train/10040.png'\n",
        "image_fullname = f'{BASE_PATH}{name_2}'\n",
        "load_img(image_fullname)"
      ]
    },
    {
      "cell_type": "code",
      "execution_count": 20,
      "metadata": {
        "colab": {
          "base_uri": "https://localhost:8080/"
        },
        "id": "TwfasVOulZVN",
        "outputId": "8ae7d989-3a15-4dd5-b40e-1e281be011e8"
      },
      "outputs": [
        {
          "data": {
            "text/plain": [
              "(32, 32, 3)"
            ]
          },
          "execution_count": 20,
          "metadata": {},
          "output_type": "execute_result"
        }
      ],
      "source": [
        "img = load_img(image_fullname)\n",
        "x = np.array(img)\n",
        "x.shape"
      ]
    },
    {
      "cell_type": "markdown",
      "metadata": {
        "id": "wK0BmIRH9FSS"
      },
      "source": [
        "Train and Valid dataset"
      ]
    },
    {
      "cell_type": "code",
      "execution_count": 21,
      "metadata": {
        "colab": {
          "base_uri": "https://localhost:8080/",
          "height": 206
        },
        "id": "-Rh7sIgQb_JF",
        "outputId": "36535193-6b6e-4159-c1d9-8b22b17de7ba"
      },
      "outputs": [
        {
          "data": {
            "text/html": [
              "<div>\n",
              "<style scoped>\n",
              "    .dataframe tbody tr th:only-of-type {\n",
              "        vertical-align: middle;\n",
              "    }\n",
              "\n",
              "    .dataframe tbody tr th {\n",
              "        vertical-align: top;\n",
              "    }\n",
              "\n",
              "    .dataframe thead th {\n",
              "        text-align: right;\n",
              "    }\n",
              "</style>\n",
              "<table border=\"1\" class=\"dataframe\">\n",
              "  <thead>\n",
              "    <tr style=\"text-align: right;\">\n",
              "      <th></th>\n",
              "      <th>path</th>\n",
              "      <th>class</th>\n",
              "    </tr>\n",
              "  </thead>\n",
              "  <tbody>\n",
              "    <tr>\n",
              "      <th>0</th>\n",
              "      <td>train/0.png</td>\n",
              "      <td>41</td>\n",
              "    </tr>\n",
              "    <tr>\n",
              "      <th>1</th>\n",
              "      <td>train/1.png</td>\n",
              "      <td>41</td>\n",
              "    </tr>\n",
              "    <tr>\n",
              "      <th>2</th>\n",
              "      <td>train/2.png</td>\n",
              "      <td>41</td>\n",
              "    </tr>\n",
              "    <tr>\n",
              "      <th>3</th>\n",
              "      <td>train/3.png</td>\n",
              "      <td>41</td>\n",
              "    </tr>\n",
              "    <tr>\n",
              "      <th>4</th>\n",
              "      <td>train/4.png</td>\n",
              "      <td>41</td>\n",
              "    </tr>\n",
              "  </tbody>\n",
              "</table>\n",
              "</div>"
            ],
            "text/plain": [
              "          path  class\n",
              "0  train/0.png     41\n",
              "1  train/1.png     41\n",
              "2  train/2.png     41\n",
              "3  train/3.png     41\n",
              "4  train/4.png     41"
            ]
          },
          "execution_count": 21,
          "metadata": {},
          "output_type": "execute_result"
        }
      ],
      "source": [
        "df_train = pd.read_csv(BASE_PATH + 'labels_train.csv', names=[\"path\", \"class\"])\n",
        "df_train.head()"
      ]
    },
    {
      "cell_type": "code",
      "execution_count": 22,
      "metadata": {
        "colab": {
          "base_uri": "https://localhost:8080/"
        },
        "id": "3-p1LsOBdqAT",
        "outputId": "6d4392bc-6076-4f0d-9b78-b125bbc1b44c"
      },
      "outputs": [
        {
          "data": {
            "text/plain": [
              "path     0\n",
              "class    0\n",
              "dtype: int64"
            ]
          },
          "execution_count": 22,
          "metadata": {},
          "output_type": "execute_result"
        }
      ],
      "source": [
        "df_train.isnull().sum()"
      ]
    },
    {
      "cell_type": "code",
      "execution_count": 23,
      "metadata": {
        "colab": {
          "base_uri": "https://localhost:8080/"
        },
        "id": "t75bhmWFdVSw",
        "outputId": "5533753f-9e6c-446e-b567-58d83cb6e4b7"
      },
      "outputs": [
        {
          "data": {
            "text/plain": [
              "2     2010\n",
              "1     1980\n",
              "13    1920\n",
              "12    1890\n",
              "38    1860\n",
              "10    1800\n",
              "4     1770\n",
              "5     1650\n",
              "25    1350\n",
              "9     1320\n",
              "7     1290\n",
              "8     1260\n",
              "3     1260\n",
              "11    1170\n",
              "18    1080\n",
              "35    1080\n",
              "17     990\n",
              "31     690\n",
              "14     690\n",
              "33     599\n",
              "15     540\n",
              "26     540\n",
              "28     480\n",
              "23     450\n",
              "30     390\n",
              "34     360\n",
              "6      360\n",
              "16     360\n",
              "22     330\n",
              "36     330\n",
              "40     300\n",
              "20     300\n",
              "21     270\n",
              "39     270\n",
              "24     240\n",
              "29     240\n",
              "32     210\n",
              "42     210\n",
              "41     210\n",
              "27     210\n",
              "37     180\n",
              "19     180\n",
              "0      180\n",
              "Name: class, dtype: int64"
            ]
          },
          "execution_count": 23,
          "metadata": {},
          "output_type": "execute_result"
        }
      ],
      "source": [
        "df_train[\"class\"].value_counts()"
      ]
    },
    {
      "cell_type": "code",
      "execution_count": 24,
      "metadata": {
        "colab": {
          "base_uri": "https://localhost:8080/",
          "height": 268
        },
        "id": "BzPvoM0ZhmAL",
        "outputId": "19ec8c72-9125-44eb-9152-96590844a87e"
      },
      "outputs": [
        {
          "data": {
            "image/png": "[encoded data removed]",
            "text/plain": [
              "<Figure size 432x288 with 1 Axes>"
            ]
          },
          "metadata": {
            "needs_background": "light"
          },
          "output_type": "display_data"
        }
      ],
      "source": [
        "df_train['class'].value_counts().plot(kind='bar')\n",
        "plt.show()  # density=False would make counts"
      ]
    },
    {
      "cell_type": "markdown",
      "metadata": {
        "id": "xESlmFJZho9t"
      },
      "source": [
        "The top class (Speed limit 50km) has over 3000 examples while the least represented class (\"roundabout mandatory\" end \"End of no passing\") has under 300 examples."
      ]
    },
    {
      "cell_type": "code",
      "execution_count": 25,
      "metadata": {
        "colab": {
          "base_uri": "https://localhost:8080/",
          "height": 206
        },
        "id": "_UbG61px9M7P",
        "outputId": "35890722-b614-48f5-9add-3e746c0abade"
      },
      "outputs": [
        {
          "data": {
            "text/html": [
              "<div>\n",
              "<style scoped>\n",
              "    .dataframe tbody tr th:only-of-type {\n",
              "        vertical-align: middle;\n",
              "    }\n",
              "\n",
              "    .dataframe tbody tr th {\n",
              "        vertical-align: top;\n",
              "    }\n",
              "\n",
              "    .dataframe thead th {\n",
              "        text-align: right;\n",
              "    }\n",
              "</style>\n",
              "<table border=\"1\" class=\"dataframe\">\n",
              "  <thead>\n",
              "    <tr style=\"text-align: right;\">\n",
              "      <th></th>\n",
              "      <th>path</th>\n",
              "      <th>class</th>\n",
              "    </tr>\n",
              "  </thead>\n",
              "  <tbody>\n",
              "    <tr>\n",
              "      <th>0</th>\n",
              "      <td>valid/0.png</td>\n",
              "      <td>41</td>\n",
              "    </tr>\n",
              "    <tr>\n",
              "      <th>1</th>\n",
              "      <td>valid/1.png</td>\n",
              "      <td>41</td>\n",
              "    </tr>\n",
              "    <tr>\n",
              "      <th>2</th>\n",
              "      <td>valid/2.png</td>\n",
              "      <td>41</td>\n",
              "    </tr>\n",
              "    <tr>\n",
              "      <th>3</th>\n",
              "      <td>valid/3.png</td>\n",
              "      <td>41</td>\n",
              "    </tr>\n",
              "    <tr>\n",
              "      <th>4</th>\n",
              "      <td>valid/4.png</td>\n",
              "      <td>41</td>\n",
              "    </tr>\n",
              "  </tbody>\n",
              "</table>\n",
              "</div>"
            ],
            "text/plain": [
              "          path  class\n",
              "0  valid/0.png     41\n",
              "1  valid/1.png     41\n",
              "2  valid/2.png     41\n",
              "3  valid/3.png     41\n",
              "4  valid/4.png     41"
            ]
          },
          "execution_count": 25,
          "metadata": {},
          "output_type": "execute_result"
        }
      ],
      "source": [
        "df_valid = pd.read_csv(BASE_PATH + 'labels_valid.csv', names=[\"path\", \"class\"])\n",
        "df_valid.head()"
      ]
    },
    {
      "cell_type": "code",
      "execution_count": 26,
      "metadata": {
        "id": "0w19HRkfmici"
      },
      "outputs": [],
      "source": [
        "train_dir = os.path.join(BASE_PATH, 'train')\n",
        "valid_dir = os.path.join(BASE_PATH, 'valid')\n",
        "test_dir = os.path.join(BASE_PATH, 'test')"
      ]
    },
    {
      "cell_type": "markdown",
      "metadata": {
        "id": "_169UBE3oeQg"
      },
      "source": [
        "Train folder has 43 different folders named from 0 to 42. Each folder contains images from the respective class."
      ]
    },
    {
      "cell_type": "code",
      "execution_count": 27,
      "metadata": {
        "id": "NKoH_pfNnfDy"
      },
      "outputs": [],
      "source": [
        "for i in range(43):\n",
        "  os.makedirs(train_dir + \"/\" +  str(i), exist_ok=True)\n",
        "  os.makedirs(valid_dir + \"/\" +  str(i), exist_ok=True)"
      ]
    },
    {
      "cell_type": "code",
      "execution_count": 28,
      "metadata": {
        "id": "kOUqoJBcm7B2"
      },
      "outputs": [],
      "source": [
        "for i in range(len(df_train)) :\n",
        "  source = BASE_PATH + df_train.loc[i, 'path']\n",
        "  destination = train_dir + '/' + str(df_train.loc[i, 'class'])\n",
        "  if (os.path.exists(source)):\n",
        "    shutil.move(source, destination)\n",
        "\n"
      ]
    },
    {
      "cell_type": "code",
      "execution_count": 29,
      "metadata": {
        "id": "yvzcT19UA-W0"
      },
      "outputs": [],
      "source": [
        "for i in range(len(df_valid)) :\n",
        "  source = BASE_PATH + df_valid.loc[i, 'path']\n",
        "  destination = valid_dir + '/' + str(df_valid.loc[i, 'class'])\n",
        "  if (os.path.exists(source)):\n",
        "    shutil.move(source, destination)"
      ]
    },
    {
      "cell_type": "markdown",
      "metadata": {
        "id": "9Ndp6HLO52-t"
      },
      "source": [
        "## Model Creation"
      ]
    },
    {
      "cell_type": "code",
      "execution_count": 30,
      "metadata": {
        "id": "VElR7bvMC7HM"
      },
      "outputs": [],
      "source": [
        "NUM_CLASSES = 43\n",
        "\n",
        "DENSE_LAYER_ACTIVATION = 'softmax'\n",
        "LOSS_METRICS = ['accuracy']\n",
        "\n",
        "LEARNING_RATE = 0.001\n",
        "\n",
        "NUM_EPOCHS = 10\n",
        "\n",
        "STEPS_PER_EPOCH_TRAINING = 100\n",
        "STEPS_PER_EPOCH_VALIDATION = 50\n",
        "\n",
        "BATCH_SIZE_TRAINING = 100\n",
        "BATCH_SIZE_VALIDATION = 50"
      ]
    },
    {
      "cell_type": "code",
      "execution_count": 31,
      "metadata": {
        "id": "Sq8ZWsk-54MW"
      },
      "outputs": [],
      "source": [
        "model = models.Sequential()\n",
        "\n",
        "model.add(Conv2D(32, (3, 3), activation='relu', input_shape=(32, 32, 3)))\n",
        "\n",
        "model.add(MaxPooling2D((2, 2)))\n",
        "model.add(Flatten())\n",
        "model.add(Dense(128, activation='relu'))\n",
        "model.add(Dense(43, activation=DENSE_LAYER_ACTIVATION))"
      ]
    },
    {
      "cell_type": "markdown",
      "metadata": {
        "id": "F0NktXAo6A3O"
      },
      "source": [
        "Optimizer"
      ]
    },
    {
      "cell_type": "code",
      "execution_count": 32,
      "metadata": {
        "id": "sALbh7eE5_8C"
      },
      "outputs": [],
      "source": [
        "optimizer = keras.optimizers.Adam(learning_rate=LEARNING_RATE)\n",
        "\n",
        "loss = keras.losses.CategoricalCrossentropy(from_logits=True)"
      ]
    },
    {
      "cell_type": "code",
      "execution_count": 33,
      "metadata": {
        "id": "ctMBKRWO6D0u"
      },
      "outputs": [],
      "source": [
        "model.compile(optimizer=optimizer, loss=loss, metrics=['accuracy'])"
      ]
    },
    {
      "cell_type": "code",
      "execution_count": 34,
      "metadata": {
        "colab": {
          "base_uri": "https://localhost:8080/"
        },
        "id": "Emh8_Rgh6FTK",
        "outputId": "6ccdb137-c397-45a7-eaff-8fd59b610ded"
      },
      "outputs": [
        {
          "name": "stdout",
          "output_type": "stream",
          "text": [
            "Model: \"sequential\"\n",
            "_________________________________________________________________\n",
            " Layer (type)                Output Shape              Param #   \n",
            "=================================================================\n",
            " conv2d (Conv2D)             (None, 30, 30, 32)        896       \n",
            "                                                                 \n",
            " max_pooling2d (MaxPooling2D  (None, 15, 15, 32)       0         \n",
            " )                                                               \n",
            "                                                                 \n",
            " flatten (Flatten)           (None, 7200)              0         \n",
            "                                                                 \n",
            " dense (Dense)               (None, 128)               921728    \n",
            "                                                                 \n",
            " dense_1 (Dense)             (None, 43)                5547      \n",
            "                                                                 \n",
            "=================================================================\n",
            "Total params: 928,171\n",
            "Trainable params: 928,171\n",
            "Non-trainable params: 0\n",
            "_________________________________________________________________\n"
          ]
        }
      ],
      "source": [
        "model.summary()"
      ]
    },
    {
      "cell_type": "markdown",
      "metadata": {
        "id": "NPaImlbf6JXI"
      },
      "source": [
        "### Generators and Training"
      ]
    },
    {
      "cell_type": "code",
      "execution_count": 35,
      "metadata": {
        "colab": {
          "base_uri": "https://localhost:8080/"
        },
        "id": "-uJH4G306YDZ",
        "outputId": "bc6b5faa-efb5-46bc-f2b0-f056900b6713"
      },
      "outputs": [
        {
          "name": "stdout",
          "output_type": "stream",
          "text": [
            "Found 34799 images belonging to 43 classes.\n"
          ]
        }
      ],
      "source": [
        "train_gen = ImageDataGenerator(rescale=1./255)\n",
        "\n",
        "train_ds = train_gen.flow_from_directory(\n",
        "    train_dir,\n",
        "    target_size=(32, 32),\n",
        "    class_mode=\"categorical\",\n",
        "    batch_size=BATCH_SIZE_TRAINING,\n",
        "    shuffle=True\n",
        ")"
      ]
    },
    {
      "cell_type": "code",
      "execution_count": 36,
      "metadata": {
        "colab": {
          "base_uri": "https://localhost:8080/"
        },
        "id": "wbTrWly-6bFz",
        "outputId": "92f39c34-141a-44aa-a342-6d23bf0ccec5"
      },
      "outputs": [
        {
          "data": {
            "text/plain": [
              "{'0': 0,\n",
              " '1': 1,\n",
              " '10': 2,\n",
              " '11': 3,\n",
              " '12': 4,\n",
              " '13': 5,\n",
              " '14': 6,\n",
              " '15': 7,\n",
              " '16': 8,\n",
              " '17': 9,\n",
              " '18': 10,\n",
              " '19': 11,\n",
              " '2': 12,\n",
              " '20': 13,\n",
              " '21': 14,\n",
              " '22': 15,\n",
              " '23': 16,\n",
              " '24': 17,\n",
              " '25': 18,\n",
              " '26': 19,\n",
              " '27': 20,\n",
              " '28': 21,\n",
              " '29': 22,\n",
              " '3': 23,\n",
              " '30': 24,\n",
              " '31': 25,\n",
              " '32': 26,\n",
              " '33': 27,\n",
              " '34': 28,\n",
              " '35': 29,\n",
              " '36': 30,\n",
              " '37': 31,\n",
              " '38': 32,\n",
              " '39': 33,\n",
              " '4': 34,\n",
              " '40': 35,\n",
              " '41': 36,\n",
              " '42': 37,\n",
              " '5': 38,\n",
              " '6': 39,\n",
              " '7': 40,\n",
              " '8': 41,\n",
              " '9': 42}"
            ]
          },
          "execution_count": 36,
          "metadata": {},
          "output_type": "execute_result"
        }
      ],
      "source": [
        "train_ds.class_indices"
      ]
    },
    {
      "cell_type": "code",
      "execution_count": 37,
      "metadata": {
        "colab": {
          "base_uri": "https://localhost:8080/"
        },
        "id": "3P_A3SYN6lxt",
        "outputId": "de545941-eac2-47ec-bf8e-9e0227e96e99"
      },
      "outputs": [
        {
          "name": "stdout",
          "output_type": "stream",
          "text": [
            "Found 4410 images belonging to 43 classes.\n"
          ]
        }
      ],
      "source": [
        "val_gen = ImageDataGenerator(rescale=1./255)\n",
        "\n",
        "val_ds = val_gen.flow_from_directory(\n",
        "    valid_dir,\n",
        "    target_size=(32, 32),\n",
        "    class_mode=\"categorical\",\n",
        "    batch_size=BATCH_SIZE_VALIDATION,\n",
        "    shuffle=True\n",
        ")"
      ]
    },
    {
      "cell_type": "code",
      "execution_count": 38,
      "metadata": {
        "colab": {
          "base_uri": "https://localhost:8080/"
        },
        "id": "_MQPHRjS6pNd",
        "outputId": "a69cfee3-5a0d-4d82-9d34-5f49a02e0fe8"
      },
      "outputs": [
        {
          "data": {
            "text/plain": [
              "{'0': 0,\n",
              " '1': 1,\n",
              " '10': 2,\n",
              " '11': 3,\n",
              " '12': 4,\n",
              " '13': 5,\n",
              " '14': 6,\n",
              " '15': 7,\n",
              " '16': 8,\n",
              " '17': 9,\n",
              " '18': 10,\n",
              " '19': 11,\n",
              " '2': 12,\n",
              " '20': 13,\n",
              " '21': 14,\n",
              " '22': 15,\n",
              " '23': 16,\n",
              " '24': 17,\n",
              " '25': 18,\n",
              " '26': 19,\n",
              " '27': 20,\n",
              " '28': 21,\n",
              " '29': 22,\n",
              " '3': 23,\n",
              " '30': 24,\n",
              " '31': 25,\n",
              " '32': 26,\n",
              " '33': 27,\n",
              " '34': 28,\n",
              " '35': 29,\n",
              " '36': 30,\n",
              " '37': 31,\n",
              " '38': 32,\n",
              " '39': 33,\n",
              " '4': 34,\n",
              " '40': 35,\n",
              " '41': 36,\n",
              " '42': 37,\n",
              " '5': 38,\n",
              " '6': 39,\n",
              " '7': 40,\n",
              " '8': 41,\n",
              " '9': 42}"
            ]
          },
          "execution_count": 38,
          "metadata": {},
          "output_type": "execute_result"
        }
      ],
      "source": [
        "val_ds.class_indices"
      ]
    },
    {
      "cell_type": "code",
      "execution_count": 39,
      "metadata": {
        "colab": {
          "base_uri": "https://localhost:8080/"
        },
        "id": "Mjnbfjut63NX",
        "outputId": "ea08e884-79e8-4222-bbbb-36be18dc0b53"
      },
      "outputs": [
        {
          "name": "stdout",
          "output_type": "stream",
          "text": [
            "Epoch 1/10\n"
          ]
        },
        {
          "name": "stderr",
          "output_type": "stream",
          "text": [
            "/usr/local/lib/python3.7/dist-packages/tensorflow/python/util/dispatch.py:1096: UserWarning: \"`categorical_crossentropy` received `from_logits=True`, but the `output` argument was produced by a sigmoid or softmax activation and thus does not represent logits. Was this intended?\"\n",
            "  return dispatch_target(*args, **kwargs)\n"
          ]
        },
        {
          "name": "stdout",
          "output_type": "stream",
          "text": [
            "100/100 [==============================] - 8s 73ms/step - loss: 2.5859 - accuracy: 0.3733 - val_loss: 1.9890 - val_accuracy: 0.4688\n",
            "Epoch 2/10\n",
            "100/100 [==============================] - 7s 71ms/step - loss: 1.3052 - accuracy: 0.6555 - val_loss: 1.3299 - val_accuracy: 0.6616\n",
            "Epoch 3/10\n",
            "100/100 [==============================] - 7s 71ms/step - loss: 0.7969 - accuracy: 0.7996 - val_loss: 0.9525 - val_accuracy: 0.7608\n",
            "Epoch 4/10\n",
            "100/100 [==============================] - 7s 71ms/step - loss: 0.5311 - accuracy: 0.8738 - val_loss: 0.8498 - val_accuracy: 0.7788\n",
            "Epoch 5/10\n",
            "100/100 [==============================] - 7s 70ms/step - loss: 0.4017 - accuracy: 0.9086 - val_loss: 0.7163 - val_accuracy: 0.8076\n",
            "Epoch 6/10\n",
            "100/100 [==============================] - 7s 70ms/step - loss: 0.3134 - accuracy: 0.9342 - val_loss: 0.6650 - val_accuracy: 0.8336\n",
            "Epoch 7/10\n",
            "100/100 [==============================] - 7s 70ms/step - loss: 0.2619 - accuracy: 0.9427 - val_loss: 0.6889 - val_accuracy: 0.8496\n",
            "Epoch 8/10\n",
            "100/100 [==============================] - 7s 70ms/step - loss: 0.2254 - accuracy: 0.9477 - val_loss: 0.6080 - val_accuracy: 0.8456\n",
            "Epoch 9/10\n",
            "100/100 [==============================] - 7s 69ms/step - loss: 0.1803 - accuracy: 0.9592 - val_loss: 0.5644 - val_accuracy: 0.8504\n",
            "Epoch 10/10\n",
            "100/100 [==============================] - 7s 70ms/step - loss: 0.1642 - accuracy: 0.9672 - val_loss: 0.5172 - val_accuracy: 0.8712\n"
          ]
        }
      ],
      "source": [
        "history = model.fit(\n",
        "    train_ds,\n",
        "    steps_per_epoch=STEPS_PER_EPOCH_TRAINING, # images = batch_size * steps\n",
        "    epochs=NUM_EPOCHS,\n",
        "    validation_data=val_ds,\n",
        "    validation_steps=STEPS_PER_EPOCH_VALIDATION # images = batch_size * steps\n",
        ")"
      ]
    },
    {
      "cell_type": "markdown",
      "metadata": {
        "id": "FSTQwX2LFBWW"
      },
      "source": [
        "###Model metrics"
      ]
    },
    {
      "cell_type": "code",
      "execution_count": 40,
      "metadata": {
        "colab": {
          "base_uri": "https://localhost:8080/"
        },
        "id": "ysSlnXQ8NrwC",
        "outputId": "b45119a1-0ea9-4d49-d91b-2e34c8f77de9"
      },
      "outputs": [
        {
          "name": "stdout",
          "output_type": "stream",
          "text": [
            "dict_keys(['loss', 'accuracy', 'val_loss', 'val_accuracy'])\n"
          ]
        }
      ],
      "source": [
        "# list all data in history\n",
        "print(history.history.keys())"
      ]
    },
    {
      "cell_type": "code",
      "execution_count": 41,
      "metadata": {
        "id": "ZzUNwQw7Nb53"
      },
      "outputs": [],
      "source": [
        "acc = history.history['accuracy'] #training acc\n",
        "val_acc = history.history['val_accuracy'] #validation acc\n",
        "loss = history.history['loss']\n",
        "val_loss = history.history['val_loss']"
      ]
    },
    {
      "cell_type": "markdown",
      "metadata": {
        "id": "Hu0-rapxHJIL"
      },
      "source": [
        "Accurancy median"
      ]
    },
    {
      "cell_type": "code",
      "execution_count": 42,
      "metadata": {
        "colab": {
          "base_uri": "https://localhost:8080/"
        },
        "id": "COrt_YUEHDbC",
        "outputId": "66cd177a-ff4d-465c-8070-e83b8f8b0292"
      },
      "outputs": [
        {
          "data": {
            "text/plain": [
              "0.9213999807834625"
            ]
          },
          "execution_count": 42,
          "metadata": {},
          "output_type": "execute_result"
        }
      ],
      "source": [
        "acc_median = np.median(acc)\n",
        "acc_median"
      ]
    },
    {
      "cell_type": "markdown",
      "metadata": {
        "id": "TgaWVVuRHsZm"
      },
      "source": [
        "Loss std"
      ]
    },
    {
      "cell_type": "code",
      "execution_count": 43,
      "metadata": {
        "colab": {
          "base_uri": "https://localhost:8080/"
        },
        "id": "lrwpTsAJHtpK",
        "outputId": "58d60c2c-7f47-4288-be92-50a5dbb13902"
      },
      "outputs": [
        {
          "data": {
            "text/plain": [
              "0.7188787880646275"
            ]
          },
          "execution_count": 43,
          "metadata": {},
          "output_type": "execute_result"
        }
      ],
      "source": [
        "loss_std = np.std(loss)\n",
        "loss_std"
      ]
    },
    {
      "cell_type": "code",
      "execution_count": 44,
      "metadata": {
        "colab": {
          "base_uri": "https://localhost:8080/",
          "height": 573
        },
        "id": "OzJ9F31FNcgs",
        "outputId": "f033edfd-b1f4-459b-b220-064da853c4ff"
      },
      "outputs": [
        {
          "data": {
            "image/png": "[encoded data removed]",
            "text/plain": [
              "<Figure size 432x288 with 1 Axes>"
            ]
          },
          "metadata": {
            "needs_background": "light"
          },
          "output_type": "display_data"
        },
        {
          "data": {
            "image/png": "[encoded data removed]",
            "text/plain": [
              "<Figure size 432x288 with 1 Axes>"
            ]
          },
          "metadata": {
            "needs_background": "light"
          },
          "output_type": "display_data"
        }
      ],
      "source": [
        "# summarize history for accuracy\n",
        "plt.plot(acc)\n",
        "plt.plot(val_acc)\n",
        "plt.title('model accuracy')\n",
        "plt.ylabel('accuracy')\n",
        "plt.xlabel('epoch')\n",
        "plt.legend(['train', 'test'], loc='upper left')\n",
        "plt.show()\n",
        "\n",
        "# summarize history for loss\n",
        "plt.plot(loss)\n",
        "plt.plot(val_loss)\n",
        "plt.title('model loss')\n",
        "plt.ylabel('loss')\n",
        "plt.xlabel('epoch')\n",
        "plt.legend(['train', 'test'], loc='upper left')\n",
        "plt.show()\n"
      ]
    },
    {
      "cell_type": "markdown",
      "metadata": {
        "id": "P-I3FC-AFdJ1"
      },
      "source": [
        "## Data augmentation"
      ]
    },
    {
      "cell_type": "markdown",
      "metadata": {
        "id": "wHVX41miPG_s"
      },
      "source": [
        "Training a model with augmentations"
      ]
    },
    {
      "cell_type": "code",
      "execution_count": 45,
      "metadata": {
        "id": "DpUyqn7NFcbt"
      },
      "outputs": [],
      "source": [
        "datagen = ImageDataGenerator(\n",
        "    rotation_range=40,\n",
        "    width_shift_range=0.2,\n",
        "    height_shift_range=0.2,\n",
        "    shear_range=0.1,\n",
        "    zoom_range=0.1,\n",
        "    horizontal_flip=True,\n",
        "    fill_mode='nearest')"
      ]
    },
    {
      "cell_type": "code",
      "execution_count": 46,
      "metadata": {
        "colab": {
          "base_uri": "https://localhost:8080/",
          "height": 1000
        },
        "id": "xuv5MyWRJOck",
        "outputId": "c35674fe-0e39-4bbe-d5f8-8ea947160eda"
      },
      "outputs": [
        {
          "data": {
            "image/png": "[encoded data removed]",
            "text/plain": [
              "<Figure size 432x288 with 1 Axes>"
            ]
          },
          "metadata": {
            "needs_background": "light"
          },
          "output_type": "display_data"
        },
        {
          "data": {
            "image/png": "[encoded data removed]",
            "text/plain": [
              "<Figure size 432x288 with 1 Axes>"
            ]
          },
          "metadata": {
            "needs_background": "light"
          },
          "output_type": "display_data"
        },
        {
          "data": {
            "image/png": "[encoded data removed]",
            "text/plain": [
              "<Figure size 432x288 with 1 Axes>"
            ]
          },
          "metadata": {
            "needs_background": "light"
          },
          "output_type": "display_data"
        },
        {
          "data": {
            "image/png": "[encoded data removed]",
            "text/plain": [
              "<Figure size 432x288 with 1 Axes>"
            ]
          },
          "metadata": {
            "needs_background": "light"
          },
          "output_type": "display_data"
        }
      ],
      "source": [
        "from tensorflow.keras.preprocessing import image\n",
        "\n",
        "fnames = [os.path.join(train_dir+\"/10\", fname) for\n",
        "    fname in os.listdir(train_dir+\"/10\")]\n",
        "\n",
        "img_path = fnames[0]\n",
        "\n",
        "img = image.load_img(img_path, target_size=(150, 150))\n",
        "\n",
        "x = image.img_to_array(img)\n",
        "x = x.reshape((1,) + x.shape)\n",
        "\n",
        "i=0\n",
        "for batch in datagen.flow(x, batch_size=1):\n",
        "    plt.figure(i)\n",
        "    imgplot = plt.imshow(image.array_to_img(batch[0]))\n",
        "    i += 1\n",
        "    if i % 4 == 0:\n",
        "        break\n",
        "\n",
        "plt.show()"
      ]
    },
    {
      "cell_type": "code",
      "execution_count": 47,
      "metadata": {
        "id": "FK-H1tQgKXFm"
      },
      "outputs": [],
      "source": [
        "train_datagen = ImageDataGenerator(\n",
        "    rescale=1./255,\n",
        "    rotation_range=40,\n",
        "    width_shift_range=0.2,\n",
        "    height_shift_range=0.2,\n",
        "    shear_range=0.2,\n",
        "    zoom_range=0.2,\n",
        "    horizontal_flip=True,)"
      ]
    },
    {
      "cell_type": "code",
      "execution_count": 48,
      "metadata": {
        "id": "z6OCI9uUKcSF"
      },
      "outputs": [],
      "source": [
        "test_datagen = ImageDataGenerator(rescale=1./255)"
      ]
    },
    {
      "cell_type": "code",
      "execution_count": 49,
      "metadata": {
        "colab": {
          "base_uri": "https://localhost:8080/"
        },
        "id": "n-MEpLPlKdhu",
        "outputId": "0034cbc7-aa84-499e-abb2-394122d87ada"
      },
      "outputs": [
        {
          "name": "stdout",
          "output_type": "stream",
          "text": [
            "Found 34799 images belonging to 43 classes.\n"
          ]
        }
      ],
      "source": [
        "train_generator = train_datagen.flow_from_directory(train_dir,\n",
        "                                                    target_size=(32, 32), \n",
        "                                                    class_mode=\"categorical\",\n",
        "                                                    batch_size=BATCH_SIZE_TRAINING)\n"
      ]
    },
    {
      "cell_type": "code",
      "execution_count": 50,
      "metadata": {
        "colab": {
          "base_uri": "https://localhost:8080/"
        },
        "id": "roiF-Dd2KgOD",
        "outputId": "99f78412-9198-43a9-977a-917e416fa2e3"
      },
      "outputs": [
        {
          "name": "stdout",
          "output_type": "stream",
          "text": [
            "Found 4410 images belonging to 43 classes.\n"
          ]
        }
      ],
      "source": [
        "validation_generator = test_datagen.flow_from_directory(\n",
        "    valid_dir,\n",
        "    target_size=(32, 32),\n",
        "    class_mode=\"categorical\",\n",
        "    batch_size=BATCH_SIZE_VALIDATION)"
      ]
    },
    {
      "cell_type": "markdown",
      "metadata": {
        "id": "Y7SwrtJZKsAr"
      },
      "source": [
        "## Model fitting (augmented) and Accuracy/Loss Evaluation"
      ]
    },
    {
      "cell_type": "code",
      "execution_count": 51,
      "metadata": {
        "colab": {
          "base_uri": "https://localhost:8080/"
        },
        "id": "7zqkTWV8K8r6",
        "outputId": "18a7810f-2a91-4fd9-f966-decd0a435c4c"
      },
      "outputs": [
        {
          "name": "stdout",
          "output_type": "stream",
          "text": [
            "Epoch 1/10\n",
            "100/100 [==============================] - 10s 102ms/step - loss: 3.1433 - accuracy: 0.2011 - val_loss: 1.8402 - val_accuracy: 0.4844\n",
            "Epoch 2/10\n",
            "100/100 [==============================] - 10s 102ms/step - loss: 2.4699 - accuracy: 0.2842 - val_loss: 1.7281 - val_accuracy: 0.5040\n",
            "Epoch 3/10\n",
            "100/100 [==============================] - 10s 102ms/step - loss: 2.2947 - accuracy: 0.3336 - val_loss: 1.6555 - val_accuracy: 0.5316\n",
            "Epoch 4/10\n",
            "100/100 [==============================] - 10s 102ms/step - loss: 2.1741 - accuracy: 0.3639 - val_loss: 1.5909 - val_accuracy: 0.5380\n",
            "Epoch 5/10\n",
            "100/100 [==============================] - 10s 102ms/step - loss: 2.0698 - accuracy: 0.3886 - val_loss: 1.5962 - val_accuracy: 0.5640\n",
            "Epoch 6/10\n",
            "100/100 [==============================] - 10s 102ms/step - loss: 2.0034 - accuracy: 0.4002 - val_loss: 1.5952 - val_accuracy: 0.5768\n",
            "Epoch 7/10\n",
            "100/100 [==============================] - 10s 104ms/step - loss: 1.9083 - accuracy: 0.4235 - val_loss: 1.6203 - val_accuracy: 0.5544\n",
            "Epoch 8/10\n",
            "100/100 [==============================] - 10s 103ms/step - loss: 1.8717 - accuracy: 0.4358 - val_loss: 1.6567 - val_accuracy: 0.5360\n",
            "Epoch 9/10\n",
            "100/100 [==============================] - 10s 102ms/step - loss: 1.8189 - accuracy: 0.4562 - val_loss: 1.6531 - val_accuracy: 0.5424\n",
            "Epoch 10/10\n",
            "100/100 [==============================] - 10s 103ms/step - loss: 1.7747 - accuracy: 0.4560 - val_loss: 1.6070 - val_accuracy: 0.5492\n"
          ]
        }
      ],
      "source": [
        "history = model.fit(\n",
        "    train_generator,\n",
        "    steps_per_epoch=STEPS_PER_EPOCH_TRAINING,\n",
        "    epochs=NUM_EPOCHS,\n",
        "    validation_data=validation_generator,\n",
        "    validation_steps=STEPS_PER_EPOCH_VALIDATION)"
      ]
    },
    {
      "cell_type": "markdown",
      "metadata": {
        "id": "AELqY5LaLL9_"
      },
      "source": [
        "### Model metrics"
      ]
    },
    {
      "cell_type": "code",
      "execution_count": 52,
      "metadata": {
        "id": "SChhljwcLIQL"
      },
      "outputs": [],
      "source": [
        "acc = history.history['accuracy'] #training acc\n",
        "val_acc = history.history['val_accuracy'] #validation acc\n",
        "loss = history.history['loss']\n",
        "val_loss = history.history['val_loss']"
      ]
    },
    {
      "cell_type": "markdown",
      "metadata": {
        "id": "Y3EDFwvDLZNs"
      },
      "source": [
        "Accurancy median"
      ]
    },
    {
      "cell_type": "code",
      "execution_count": 53,
      "metadata": {
        "colab": {
          "base_uri": "https://localhost:8080/"
        },
        "id": "Fd46PzLkLWXj",
        "outputId": "9bab50d1-39b8-437d-8db0-0215dba632bc"
      },
      "outputs": [
        {
          "data": {
            "text/plain": [
              "0.3944000005722046"
            ]
          },
          "execution_count": 53,
          "metadata": {},
          "output_type": "execute_result"
        }
      ],
      "source": [
        "acc_median = np.median(acc)\n",
        "acc_median"
      ]
    },
    {
      "cell_type": "markdown",
      "metadata": {
        "id": "-CNijQ3TLWXl"
      },
      "source": [
        "Loss std"
      ]
    },
    {
      "cell_type": "code",
      "execution_count": 54,
      "metadata": {
        "colab": {
          "base_uri": "https://localhost:8080/"
        },
        "id": "gSh5_-PxLWXm",
        "outputId": "1ce7c2d4-b6e2-4c6c-dbf6-71789be3d7a5"
      },
      "outputs": [
        {
          "data": {
            "text/plain": [
              "0.39047111511530785"
            ]
          },
          "execution_count": 54,
          "metadata": {},
          "output_type": "execute_result"
        }
      ],
      "source": [
        "loss_std = np.std(loss)\n",
        "loss_std"
      ]
    },
    {
      "cell_type": "code",
      "execution_count": 55,
      "metadata": {
        "colab": {
          "base_uri": "https://localhost:8080/",
          "height": 573
        },
        "id": "vKBIX0MqLWXm",
        "outputId": "aa2e2e10-a5bc-4fdf-c9e1-3509285caf20"
      },
      "outputs": [
        {
          "data": {
            "image/png": "[encoded data removed]",
            "text/plain": [
              "<Figure size 432x288 with 1 Axes>"
            ]
          },
          "metadata": {
            "needs_background": "light"
          },
          "output_type": "display_data"
        },
        {
          "data": {
            "image/png": "[encoded data removed]",
            "text/plain": [
              "<Figure size 432x288 with 1 Axes>"
            ]
          },
          "metadata": {
            "needs_background": "light"
          },
          "output_type": "display_data"
        }
      ],
      "source": [
        "# summarize history for accuracy\n",
        "plt.plot(acc)\n",
        "plt.plot(val_acc)\n",
        "plt.title('model accuracy')\n",
        "plt.ylabel('accuracy')\n",
        "plt.xlabel('epoch')\n",
        "plt.legend(['train', 'test'], loc='upper left')\n",
        "plt.show()\n",
        "\n",
        "# summarize history for loss\n",
        "plt.plot(loss)\n",
        "plt.plot(val_loss)\n",
        "plt.title('model loss')\n",
        "plt.ylabel('loss')\n",
        "plt.xlabel('epoch')\n",
        "plt.legend(['train', 'test'], loc='upper left')\n",
        "plt.show()\n"
      ]
    },
    {
      "cell_type": "markdown",
      "metadata": {
        "id": "XIt4w2I2tQ4K"
      },
      "source": [
        "# Export model"
      ]
    },
    {
      "cell_type": "code",
      "execution_count": 56,
      "metadata": {
        "id": "vS9BSRB3XsA-"
      },
      "outputs": [],
      "source": [
        "MODEL_PATH = BASE_PATH + 'traffic-sign-model.h5'\n",
        "\n",
        "tf.keras.models.save_model(\n",
        "    model,\n",
        "    MODEL_PATH,\n",
        "    overwrite=True,\n",
        "    include_optimizer=True,\n",
        "    save_format=None,\n",
        "    signatures=None,\n",
        "    options=None,\n",
        "    save_traces=True,\n",
        ")\n",
        "\n"
      ]
    },
    {
      "cell_type": "markdown",
      "metadata": {
        "id": "eGwcNwUQtS3Y"
      },
      "source": [
        "# Load Model and Evaluate"
      ]
    },
    {
      "cell_type": "code",
      "execution_count": 57,
      "metadata": {
        "id": "LjJ6oNB5vFVe"
      },
      "outputs": [],
      "source": [
        "model_loaded = keras.models.load_model(MODEL_PATH)"
      ]
    },
    {
      "cell_type": "code",
      "execution_count": 58,
      "metadata": {
        "colab": {
          "base_uri": "https://localhost:8080/"
        },
        "id": "W32WIAjUwA4Y",
        "outputId": "909c26cd-d51d-4b70-b61f-59dbbb77b021"
      },
      "outputs": [
        {
          "name": "stdout",
          "output_type": "stream",
          "text": [
            "Found 34799 images belonging to 43 classes.\n",
            "   5/1088 [..............................] - ETA: 13s - loss: 1.1741 - accuracy: 0.5437 "
          ]
        },
        {
          "name": "stderr",
          "output_type": "stream",
          "text": [
            "/usr/local/lib/python3.7/dist-packages/tensorflow/python/util/dispatch.py:1096: UserWarning: \"`categorical_crossentropy` received `from_logits=True`, but the `output` argument was produced by a sigmoid or softmax activation and thus does not represent logits. Was this intended?\"\n",
            "  return dispatch_target(*args, **kwargs)\n"
          ]
        },
        {
          "name": "stdout",
          "output_type": "stream",
          "text": [
            "1088/1088 [==============================] - 13s 12ms/step - loss: 0.9302 - accuracy: 0.7312\n"
          ]
        },
        {
          "data": {
            "text/plain": [
              "[0.9302126169204712, 0.7312279343605042]"
            ]
          },
          "execution_count": 58,
          "metadata": {},
          "output_type": "execute_result"
        }
      ],
      "source": [
        "test_gen = ImageDataGenerator(rescale=1./255)\n",
        "\n",
        "test_ds = test_gen.flow_from_directory(\n",
        "    train_dir,\n",
        "    target_size=(32, 32),\n",
        "    batch_size=32,\n",
        "    shuffle=False\n",
        ")\n",
        "\n",
        "model_loaded.evaluate(test_ds)"
      ]
    },
    {
      "cell_type": "markdown",
      "metadata": {
        "id": "88C13P_LyQhE"
      },
      "source": [
        "# Predict"
      ]
    },
    {
      "cell_type": "code",
      "execution_count": 59,
      "metadata": {
        "id": "7S_NI9ZVyTx5"
      },
      "outputs": [],
      "source": [
        "path = test_dir + '/100.png' #Speed limit (30km/h)\n",
        "img = load_img(path, target_size=(32, 32))\n",
        "\n",
        "import numpy as np\n",
        "x = np.array(img)\n",
        "X = np.array([x])\n"
      ]
    },
    {
      "cell_type": "code",
      "execution_count": 60,
      "metadata": {
        "colab": {
          "base_uri": "https://localhost:8080/"
        },
        "id": "3lcKgVupyVM_",
        "outputId": "66a723a2-5629-47ea-b51a-06b8bf90d06c"
      },
      "outputs": [
        {
          "data": {
            "text/plain": [
              "(1, 32, 32, 3)"
            ]
          },
          "execution_count": 60,
          "metadata": {},
          "output_type": "execute_result"
        }
      ],
      "source": [
        "X.shape"
      ]
    },
    {
      "cell_type": "code",
      "execution_count": 61,
      "metadata": {
        "id": "6q5xQBe6yynm"
      },
      "outputs": [],
      "source": [
        "def preprocess_input(x):\n",
        "    return x / 255.0\n",
        "\n",
        "X = preprocess_input(X)"
      ]
    },
    {
      "cell_type": "code",
      "execution_count": 62,
      "metadata": {
        "id": "R1IZXPtoyuDG"
      },
      "outputs": [],
      "source": [
        "pred = model_loaded.predict(X)"
      ]
    },
    {
      "cell_type": "code",
      "execution_count": 63,
      "metadata": {
        "colab": {
          "base_uri": "https://localhost:8080/"
        },
        "id": "NFfk4yiXy11O",
        "outputId": "319f3108-3f64-443c-ad82-fe9e5271fca1"
      },
      "outputs": [
        {
          "data": {
            "text/plain": [
              "array([[1.23786621e-01, 7.24362850e-01, 1.30724895e-03, 8.83054803e-04,\n",
              "        8.61106020e-10, 4.31739318e-05, 1.19258942e-07, 3.04809801e-04,\n",
              "        1.33544812e-02, 5.46156453e-09, 1.10157323e-03, 2.00905488e-04,\n",
              "        7.82638341e-02, 1.68939849e-07, 1.51061482e-04, 6.25376051e-05,\n",
              "        1.95830478e-04, 1.19722250e-03, 1.14946230e-03, 1.52397183e-06,\n",
              "        3.42424755e-04, 1.17450167e-04, 2.96297163e-04, 3.60933039e-03,\n",
              "        8.22916991e-06, 1.88684899e-05, 1.00537065e-07, 5.53594415e-09,\n",
              "        2.85197643e-09, 5.34247047e-09, 1.11703802e-08, 4.76411029e-11,\n",
              "        1.67264016e-08, 1.22644825e-10, 6.37341710e-03, 2.32386466e-09,\n",
              "        8.66151595e-08, 4.44796981e-08, 5.61283669e-03, 4.84006002e-10,\n",
              "        2.41764632e-04, 5.83870897e-05, 3.69541310e-02]], dtype=float32)"
            ]
          },
          "execution_count": 63,
          "metadata": {},
          "output_type": "execute_result"
        }
      ],
      "source": [
        "pred"
      ]
    },
    {
      "cell_type": "code",
      "execution_count": 64,
      "metadata": {
        "colab": {
          "base_uri": "https://localhost:8080/"
        },
        "id": "glB6RTjQrXqW",
        "outputId": "7844593d-1acb-4948-ad4c-7924de6e2058"
      },
      "outputs": [
        {
          "data": {
            "text/plain": [
              "{'Ahead only': 2.3238647e-09,\n",
              " 'Beware of ice/snow': 1.117038e-08,\n",
              " 'Bicycles crossing': 5.3424705e-09,\n",
              " 'Bumpy road': 0.00029629716,\n",
              " 'Children crossing': 2.8519764e-09,\n",
              " 'Dangerous curve to the left': 1.5239718e-06,\n",
              " 'Dangerous curve to the right': 0.00034242476,\n",
              " 'Double curve': 0.00011745017,\n",
              " 'End of all speed and passing limits': 1.6726402e-08,\n",
              " 'End of no passing': 5.838709e-05,\n",
              " 'End of no passing by vehicles over 3.5 metric tons': 0.03695413,\n",
              " 'End of speed limit (80km/h)': 1.1925894e-07,\n",
              " 'General caution': 0.0011494623,\n",
              " 'Go straight or left': 4.4479698e-08,\n",
              " 'Go straight or right': 8.661516e-08,\n",
              " 'Keep left': 4.84006e-10,\n",
              " 'Keep right': 0.0056128367,\n",
              " 'No entry': 0.0011972225,\n",
              " 'No passing': 5.4615645e-09,\n",
              " 'No passing for vehicles over 3.5 metric tons': 0.0011015732,\n",
              " 'No vehicles': 6.2537605e-05,\n",
              " 'Pedestrians': 5.535944e-09,\n",
              " 'Priority road': 0.078263834,\n",
              " 'Right-of-way at the next intersection': 0.00020090549,\n",
              " 'Road narrows on the right': 8.22917e-06,\n",
              " 'Road work': 1.886849e-05,\n",
              " 'Roundabout mandatory': 0.00024176463,\n",
              " 'Slippery road': 0.0036093304,\n",
              " 'Speed limit (100km/h)': 0.0003048098,\n",
              " 'Speed limit (120km/h)': 0.013354481,\n",
              " 'Speed limit (20km/h)': 0.12378662,\n",
              " 'Speed limit (30km/h)': 0.72436285,\n",
              " 'Speed limit (50km/h)': 0.001307249,\n",
              " 'Speed limit (60km/h)': 0.0008830548,\n",
              " 'Speed limit (70km/h)': 8.61106e-10,\n",
              " 'Speed limit (80km/h)': 4.317393e-05,\n",
              " 'Stop': 0.00015106148,\n",
              " 'Traffic signals': 1.00537065e-07,\n",
              " 'Turn left ahead': 0.006373417,\n",
              " 'Turn right ahead': 1.2264482e-10,\n",
              " 'Vehicles over 3.5 metric tons prohibited': 0.00019583048,\n",
              " 'Wild animals crossing': 4.7641103e-11,\n",
              " 'Yield': 1.6893985e-07}"
            ]
          },
          "execution_count": 64,
          "metadata": {},
          "output_type": "execute_result"
        }
      ],
      "source": [
        "classes = [\n",
        "  \"Speed limit (20km/h)\",\n",
        "  \"Speed limit (30km/h)\",\n",
        "  \"Speed limit (50km/h)\",\n",
        "  \"Speed limit (60km/h)\",\n",
        "  \"Speed limit (70km/h)\",\n",
        "  \"Speed limit (80km/h)\",\n",
        "  \"End of speed limit (80km/h)\",\n",
        "  \"Speed limit (100km/h)\",\n",
        "  \"Speed limit (120km/h)\",\n",
        "  \"No passing\",\n",
        "  \"No passing for vehicles over 3.5 metric tons\",\n",
        "  \"Right-of-way at the next intersection\",\n",
        "  \"Priority road\",\n",
        "  \"Yield\",\n",
        "  \"Stop\",\n",
        "  \"No vehicles\",\n",
        "  \"Vehicles over 3.5 metric tons prohibited\",\n",
        "  \"No entry\",\n",
        "  \"General caution\",\n",
        "  \"Dangerous curve to the left\",\n",
        "  \"Dangerous curve to the right\",\n",
        "  \"Double curve\",\n",
        "  \"Bumpy road\",\n",
        "  \"Slippery road\",\n",
        "  \"Road narrows on the right\",\n",
        "  \"Road work\",\n",
        "  \"Traffic signals\",\n",
        "  \"Pedestrians\",\n",
        "  \"Children crossing\",\n",
        "  \"Bicycles crossing\",\n",
        "  \"Beware of ice/snow\",\n",
        "  \"Wild animals crossing\",\n",
        "  \"End of all speed and passing limits\",\n",
        "  \"Turn right ahead\",\n",
        "  \"Turn left ahead\",\n",
        "  \"Ahead only\",\n",
        "  \"Go straight or right\",\n",
        "  \"Go straight or left\",\n",
        "  \"Keep right\",\n",
        "  \"Keep left\",\n",
        "  \"Roundabout mandatory\",\n",
        "  \"End of no passing\",\n",
        "  \"End of no passing by vehicles over 3.5 metric tons\"\n",
        "]\n",
        "dict(zip(classes, pred[0]))"
      ]
    },
    {
      "cell_type": "markdown",
      "metadata": {
        "id": "CAaif0HMv3Cw"
      },
      "source": [
        "Speed limit (30km/h)"
      ]
    },
    {
      "cell_type": "markdown",
      "metadata": {
        "id": "o1K6NUgsOV0i"
      },
      "source": [
        "# Convert the model for use with TensorFlow lite"
      ]
    },
    {
      "cell_type": "code",
      "execution_count": 65,
      "metadata": {
        "colab": {
          "base_uri": "https://localhost:8080/"
        },
        "id": "iGB527mROSxU",
        "outputId": "8703a80b-b393-499b-c653-47f776c6f64b"
      },
      "outputs": [
        {
          "name": "stdout",
          "output_type": "stream",
          "text": [
            "INFO:tensorflow:Assets written to: /tmp/tmpy7_9cm5e/assets\n"
          ]
        },
        {
          "name": "stderr",
          "output_type": "stream",
          "text": [
            "WARNING:absl:Buffer deduplication procedure will be skipped when flatbuffer library is not properly loaded\n"
          ]
        }
      ],
      "source": [
        "# Convert the model.\n",
        "converter = tf.lite.TFLiteConverter.from_keras_model(model_loaded)\n",
        "tflite_model = converter.convert()\n",
        "\n",
        "# Save the model.\n",
        "MODEL_TFLITE_PATH = BASE_PATH + 'traffic-sign-model.tflite'\n",
        "\n",
        "with open(MODEL_TFLITE_PATH, 'wb') as f:\n",
        "  f.write(tflite_model)"
      ]
    },
    {
      "cell_type": "markdown",
      "metadata": {
        "id": "KwmLy6xJ_Iaf"
      },
      "source": [
        "Predict with TS Lite"
      ]
    },
    {
      "cell_type": "code",
      "execution_count": 66,
      "metadata": {
        "colab": {
          "base_uri": "https://localhost:8080/"
        },
        "id": "5aJ2fYLtSDA6",
        "outputId": "5396d44c-5b39-43f9-9ea6-e63a7f185487"
      },
      "outputs": [
        {
          "name": "stdout",
          "output_type": "stream",
          "text": [
            "Looking in indexes: https://pypi.org/simple, https://google-coral.github.io/py-repo/\n",
            "Collecting tflite_runtime\n",
            "  Downloading tflite_runtime-2.7.0-cp37-cp37m-manylinux2014_x86_64.whl (2.2 MB)\n",
            "\u001b[K     |████████████████████████████████| 2.2 MB 14.8 MB/s \n",
            "\u001b[?25hRequirement already satisfied: numpy>=1.19.2 in /usr/local/lib/python3.7/dist-packages (from tflite_runtime) (1.19.5)\n",
            "Installing collected packages: tflite-runtime\n",
            "Successfully installed tflite-runtime-2.7.0\n"
          ]
        }
      ],
      "source": [
        "!pip install --extra-index-url https://google-coral.github.io/py-repo/ tflite_runtime"
      ]
    },
    {
      "cell_type": "code",
      "execution_count": 67,
      "metadata": {
        "id": "D1a2fiYW_LGR"
      },
      "outputs": [],
      "source": [
        "import tensorflow.lite as tflite\n",
        "import tflite_runtime.interpreter as tflite\n",
        "\n",
        "import os\n",
        "import numpy as np\n",
        "\n",
        "from io import BytesIO\n",
        "from urllib import request\n",
        "\n",
        "from PIL import Image\n",
        "\n",
        "\n",
        "MODEL_NAME = MODEL_TFLITE_PATH\n",
        "\n",
        "\n",
        "def download_image(url):\n",
        "    with request.urlopen(url) as resp:\n",
        "        buffer = resp.read()\n",
        "    stream = BytesIO(buffer)\n",
        "    img = Image.open(stream)\n",
        "    return img\n",
        "\n",
        "\n",
        "def prepare_image(img, target_size):\n",
        "    if img.mode != 'RGB':\n",
        "        img = img.convert('RGB')\n",
        "    img = img.resize(target_size, Image.NEAREST)\n",
        "    return img\n",
        "\n",
        "\n",
        "def prepare_input(x):\n",
        "    return x / 255.0\n",
        "\n",
        "\n",
        "interpreter = tflite.Interpreter(model_path=MODEL_NAME)\n",
        "interpreter.allocate_tensors()\n",
        "\n",
        "input_index = interpreter.get_input_details()[0]['index']\n",
        "output_index = interpreter.get_output_details()[0]['index']\n",
        "\n",
        "\n",
        "def predict(url):\n",
        "    img = download_image(url)\n",
        "    img = prepare_image(img, target_size=(32, 32))\n",
        "\n",
        "    x = np.array(img, dtype='float32')\n",
        "    X = np.array([x])\n",
        "    X = prepare_input(X)\n",
        "\n",
        "    interpreter.set_tensor(input_index, X)\n",
        "    interpreter.invoke()\n",
        "\n",
        "    preds = interpreter.get_tensor(output_index)\n",
        "\n",
        "    return preds"
      ]
    },
    {
      "cell_type": "code",
      "execution_count": 68,
      "metadata": {
        "colab": {
          "base_uri": "https://localhost:8080/"
        },
        "id": "ygDxDdt9STsD",
        "outputId": "3af2f76e-c49b-42a7-b19b-e9a6dadfd213"
      },
      "outputs": [
        {
          "data": {
            "text/plain": [
              "{'Ahead only': 2.3238647e-09,\n",
              " 'Beware of ice/snow': 1.117038e-08,\n",
              " 'Bicycles crossing': 5.3424705e-09,\n",
              " 'Bumpy road': 0.00029629716,\n",
              " 'Children crossing': 2.8519764e-09,\n",
              " 'Dangerous curve to the left': 1.5239718e-06,\n",
              " 'Dangerous curve to the right': 0.00034242476,\n",
              " 'Double curve': 0.00011745017,\n",
              " 'End of all speed and passing limits': 1.6726402e-08,\n",
              " 'End of no passing': 5.838709e-05,\n",
              " 'End of no passing by vehicles over 3.5 metric tons': 0.03695413,\n",
              " 'End of speed limit (80km/h)': 1.1925894e-07,\n",
              " 'General caution': 0.0011494623,\n",
              " 'Go straight or left': 4.4479698e-08,\n",
              " 'Go straight or right': 8.661516e-08,\n",
              " 'Keep left': 4.84006e-10,\n",
              " 'Keep right': 0.0056128367,\n",
              " 'No entry': 0.0011972225,\n",
              " 'No passing': 5.4615645e-09,\n",
              " 'No passing for vehicles over 3.5 metric tons': 0.0011015732,\n",
              " 'No vehicles': 6.2537605e-05,\n",
              " 'Pedestrians': 5.535944e-09,\n",
              " 'Priority road': 0.078263834,\n",
              " 'Right-of-way at the next intersection': 0.00020090549,\n",
              " 'Road narrows on the right': 8.22917e-06,\n",
              " 'Road work': 1.886849e-05,\n",
              " 'Roundabout mandatory': 0.00024176463,\n",
              " 'Slippery road': 0.0036093304,\n",
              " 'Speed limit (100km/h)': 0.0003048098,\n",
              " 'Speed limit (120km/h)': 0.013354481,\n",
              " 'Speed limit (20km/h)': 0.12378662,\n",
              " 'Speed limit (30km/h)': 0.72436285,\n",
              " 'Speed limit (50km/h)': 0.001307249,\n",
              " 'Speed limit (60km/h)': 0.0008830548,\n",
              " 'Speed limit (70km/h)': 8.61106e-10,\n",
              " 'Speed limit (80km/h)': 4.317393e-05,\n",
              " 'Stop': 0.00015106148,\n",
              " 'Traffic signals': 1.00537065e-07,\n",
              " 'Turn left ahead': 0.006373417,\n",
              " 'Turn right ahead': 1.2264482e-10,\n",
              " 'Vehicles over 3.5 metric tons prohibited': 0.00019583048,\n",
              " 'Wild animals crossing': 4.7641103e-11,\n",
              " 'Yield': 1.6893985e-07}"
            ]
          },
          "execution_count": 68,
          "metadata": {},
          "output_type": "execute_result"
        }
      ],
      "source": [
        "url = 'http://clipart-library.com/images/gieERjykT.jpg'\n",
        "preds = predict(url)\n",
        "dict(zip(classes, pred[0]))"
      ]
    }
  ],
  "metadata": {
    "colab": {
      "name": "Traffic Sign Classification - Capestone project MLZoomCamp.ipynb",
      "provenance": [],
      "toc_visible": true
    },
    "kernelspec": {
      "display_name": "Python 3",
      "name": "python3"
    },
    "language_info": {
      "name": "python"
    }
  },
  "nbformat": 4,
  "nbformat_minor": 0
}
